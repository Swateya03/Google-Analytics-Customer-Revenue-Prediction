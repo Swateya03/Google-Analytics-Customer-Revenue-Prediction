{
 "cells": [
  {
   "cell_type": "code",
   "execution_count": 1,
   "id": "e304c07c",
   "metadata": {},
   "outputs": [],
   "source": [
    "## Necessary libraries\n",
    "import time\n",
    "import json\n",
    "import numpy as np\n",
    "import pandas as pd\n",
    "from pandas import json_normalize\n",
    "\n",
    "import datetime\n",
    "\n",
    "import seaborn as sns\n",
    "import matplotlib.pyplot as plt\n",
    "\n",
    "import lightgbm as lgb\n",
    "\n",
    "from sklearn.preprocessing import LabelEncoder\n",
    "from sklearn.metrics import mean_squared_error\n",
    "\n",
    "import warnings\n",
    "warnings.filterwarnings('ignore')"
   ]
  },
  {
   "cell_type": "markdown",
   "id": "e414a284",
   "metadata": {},
   "source": [
    "## DATA LOADING\n",
    "#### Since in the dataset thier are some json columns so we need to define a function to load them as given below"
   ]
  },
  {
   "cell_type": "code",
   "execution_count": 2,
   "id": "dd579696",
   "metadata": {},
   "outputs": [],
   "source": [
    "\n",
    "def load_df(csv_path, nrows = None):\n",
    "    json_cols = ['device', 'geoNetwork', 'totals', 'trafficSource']\n",
    "    df = pd.read_csv(csv_path,\n",
    "                     #converters are dict of functions for converting values in certain columns. Keys can either be integers or column labels.\n",
    "                     #json.loads() method can be used to parse a valid JSON string and convert it into a Python Dictionary.\n",
    "                     #It is mainly used for deserializing native string, byte, or byte array which consists of JSON data into Python Dictionary.\n",
    "                     converters = {col: json.loads for col in json_cols},                                                                         \n",
    "                         dtype = {'fullVisitorId': 'str'}, # Important!!\n",
    "                         nrows = nrows)\n",
    "    for col in json_cols:\n",
    "        # for each column, flatten data frame such that the values of a single col are spread in different cols\n",
    "        # This will use subcol as names of flat_col.columns\n",
    "        flat_col = json_normalize(df[col])\n",
    "        # Name the columns in this flatten data frame as col.subcol for tracability\n",
    "        flat_col.columns = [f\"{col}.{subcol}\" for subcol in flat_col.columns]\n",
    "        # Drop the json_col and instead add the new flat_col\n",
    "        df = df.drop(col, axis = 1).merge(flat_col, right_index = True, left_index = True)\n",
    "    return df\n",
    "\n"
   ]
  },
  {
   "cell_type": "code",
   "execution_count": 3,
   "id": "bb279318",
   "metadata": {},
   "outputs": [],
   "source": [
    "csv_train_path = 'train_v2.csv'\n",
    "csv_test_path = 'test_v2.csv'"
   ]
  },
  {
   "cell_type": "code",
   "execution_count": 4,
   "id": "c3def2e4",
   "metadata": {},
   "outputs": [
    {
     "name": "stdout",
     "output_type": "stream",
     "text": [
      "CPU times: total: 1min 12s\n",
      "Wall time: 1min 37s\n"
     ]
    },
    {
     "data": {
      "text/plain": [
       "((120000, 60), (401589, 59))"
      ]
     },
     "execution_count": 4,
     "metadata": {},
     "output_type": "execute_result"
    }
   ],
   "source": [
    "%%time\n",
    "# %%time is used to calculate the timing of code chunk execution #\n",
    "train = load_df(csv_train_path, nrows = 120000)\n",
    "test = load_df(csv_test_path, nrows = None)\n",
    "train.shape, test.shape"
   ]
  },
  {
   "cell_type": "markdown",
   "id": "fd110f6e",
   "metadata": {},
   "source": [
    "#### Since we are implementing this using cpu so we have taken 120000 rows while the real shape is as follows:-\n",
    "#### Train dataset shape is : (1708337, 60)\n",
    "#### Test dataset shape is : (401589, 59)\n",
    "#### Here each record corresponds to one visit to store."
   ]
  },
  {
   "cell_type": "markdown",
   "id": "9eef570c",
   "metadata": {},
   "source": [
    "## DESCRIBING DATA"
   ]
  },
  {
   "cell_type": "code",
   "execution_count": 5,
   "id": "dda123ef",
   "metadata": {},
   "outputs": [
    {
     "name": "stdout",
     "output_type": "stream",
     "text": [
      "<class 'pandas.core.frame.DataFrame'>\n",
      "RangeIndex: 120000 entries, 0 to 119999\n",
      "Data columns (total 60 columns):\n",
      " #   Column                                             Non-Null Count   Dtype \n",
      "---  ------                                             --------------   ----- \n",
      " 0   channelGrouping                                    120000 non-null  object\n",
      " 1   customDimensions                                   120000 non-null  object\n",
      " 2   date                                               120000 non-null  int64 \n",
      " 3   fullVisitorId                                      120000 non-null  object\n",
      " 4   hits                                               120000 non-null  object\n",
      " 5   socialEngagementType                               120000 non-null  object\n",
      " 6   visitId                                            120000 non-null  int64 \n",
      " 7   visitNumber                                        120000 non-null  int64 \n",
      " 8   visitStartTime                                     120000 non-null  int64 \n",
      " 9   device.browser                                     120000 non-null  object\n",
      " 10  device.browserVersion                              120000 non-null  object\n",
      " 11  device.browserSize                                 120000 non-null  object\n",
      " 12  device.operatingSystem                             120000 non-null  object\n",
      " 13  device.operatingSystemVersion                      120000 non-null  object\n",
      " 14  device.isMobile                                    120000 non-null  bool  \n",
      " 15  device.mobileDeviceBranding                        120000 non-null  object\n",
      " 16  device.mobileDeviceModel                           120000 non-null  object\n",
      " 17  device.mobileInputSelector                         120000 non-null  object\n",
      " 18  device.mobileDeviceInfo                            120000 non-null  object\n",
      " 19  device.mobileDeviceMarketingName                   120000 non-null  object\n",
      " 20  device.flashVersion                                120000 non-null  object\n",
      " 21  device.language                                    120000 non-null  object\n",
      " 22  device.screenColors                                120000 non-null  object\n",
      " 23  device.screenResolution                            120000 non-null  object\n",
      " 24  device.deviceCategory                              120000 non-null  object\n",
      " 25  geoNetwork.continent                               120000 non-null  object\n",
      " 26  geoNetwork.subContinent                            120000 non-null  object\n",
      " 27  geoNetwork.country                                 120000 non-null  object\n",
      " 28  geoNetwork.region                                  120000 non-null  object\n",
      " 29  geoNetwork.metro                                   120000 non-null  object\n",
      " 30  geoNetwork.city                                    120000 non-null  object\n",
      " 31  geoNetwork.cityId                                  120000 non-null  object\n",
      " 32  geoNetwork.networkDomain                           120000 non-null  object\n",
      " 33  geoNetwork.latitude                                120000 non-null  object\n",
      " 34  geoNetwork.longitude                               120000 non-null  object\n",
      " 35  geoNetwork.networkLocation                         120000 non-null  object\n",
      " 36  totals.visits                                      120000 non-null  object\n",
      " 37  totals.hits                                        120000 non-null  object\n",
      " 38  totals.pageviews                                   119988 non-null  object\n",
      " 39  totals.bounces                                     60561 non-null   object\n",
      " 40  totals.newVisits                                   91478 non-null   object\n",
      " 41  totals.sessionQualityDim                           54286 non-null   object\n",
      " 42  totals.timeOnSite                                  59266 non-null   object\n",
      " 43  totals.transactions                                1234 non-null    object\n",
      " 44  totals.transactionRevenue                          1228 non-null    object\n",
      " 45  totals.totalTransactionRevenue                     1228 non-null    object\n",
      " 46  trafficSource.campaign                             120000 non-null  object\n",
      " 47  trafficSource.source                               120000 non-null  object\n",
      " 48  trafficSource.medium                               120000 non-null  object\n",
      " 49  trafficSource.keyword                              40032 non-null   object\n",
      " 50  trafficSource.adwordsClickInfo.criteriaParameters  120000 non-null  object\n",
      " 51  trafficSource.referralPath                         39196 non-null   object\n",
      " 52  trafficSource.isTrueDirect                         36659 non-null   object\n",
      " 53  trafficSource.adContent                            5541 non-null    object\n",
      " 54  trafficSource.adwordsClickInfo.page                6284 non-null    object\n",
      " 55  trafficSource.adwordsClickInfo.slot                6284 non-null    object\n",
      " 56  trafficSource.adwordsClickInfo.gclId               6337 non-null    object\n",
      " 57  trafficSource.adwordsClickInfo.adNetworkType       6284 non-null    object\n",
      " 58  trafficSource.adwordsClickInfo.isVideoAd           6284 non-null    object\n",
      " 59  trafficSource.campaignCode                         1 non-null       object\n",
      "dtypes: bool(1), int64(4), object(55)\n",
      "memory usage: 54.1+ MB\n"
     ]
    }
   ],
   "source": [
    "train.info()"
   ]
  },
  {
   "cell_type": "code",
   "execution_count": 6,
   "id": "1e3192d2",
   "metadata": {},
   "outputs": [
    {
     "data": {
      "text/html": [
       "<div>\n",
       "<style scoped>\n",
       "    .dataframe tbody tr th:only-of-type {\n",
       "        vertical-align: middle;\n",
       "    }\n",
       "\n",
       "    .dataframe tbody tr th {\n",
       "        vertical-align: top;\n",
       "    }\n",
       "\n",
       "    .dataframe thead th {\n",
       "        text-align: right;\n",
       "    }\n",
       "</style>\n",
       "<table border=\"1\" class=\"dataframe\">\n",
       "  <thead>\n",
       "    <tr style=\"text-align: right;\">\n",
       "      <th></th>\n",
       "      <th>channelGrouping</th>\n",
       "      <th>customDimensions</th>\n",
       "      <th>date</th>\n",
       "      <th>fullVisitorId</th>\n",
       "      <th>hits</th>\n",
       "      <th>socialEngagementType</th>\n",
       "      <th>visitId</th>\n",
       "      <th>visitNumber</th>\n",
       "      <th>visitStartTime</th>\n",
       "      <th>device.browser</th>\n",
       "      <th>...</th>\n",
       "      <th>trafficSource.adwordsClickInfo.criteriaParameters</th>\n",
       "      <th>trafficSource.referralPath</th>\n",
       "      <th>trafficSource.isTrueDirect</th>\n",
       "      <th>trafficSource.adContent</th>\n",
       "      <th>trafficSource.adwordsClickInfo.page</th>\n",
       "      <th>trafficSource.adwordsClickInfo.slot</th>\n",
       "      <th>trafficSource.adwordsClickInfo.gclId</th>\n",
       "      <th>trafficSource.adwordsClickInfo.adNetworkType</th>\n",
       "      <th>trafficSource.adwordsClickInfo.isVideoAd</th>\n",
       "      <th>trafficSource.campaignCode</th>\n",
       "    </tr>\n",
       "  </thead>\n",
       "  <tbody>\n",
       "    <tr>\n",
       "      <th>0</th>\n",
       "      <td>Organic Search</td>\n",
       "      <td>[{'index': '4', 'value': 'EMEA'}]</td>\n",
       "      <td>20171016</td>\n",
       "      <td>3162355547410993243</td>\n",
       "      <td>[{'hitNumber': '1', 'time': '0', 'hour': '17',...</td>\n",
       "      <td>Not Socially Engaged</td>\n",
       "      <td>1508198450</td>\n",
       "      <td>1</td>\n",
       "      <td>1508198450</td>\n",
       "      <td>Firefox</td>\n",
       "      <td>...</td>\n",
       "      <td>not available in demo dataset</td>\n",
       "      <td>NaN</td>\n",
       "      <td>NaN</td>\n",
       "      <td>NaN</td>\n",
       "      <td>NaN</td>\n",
       "      <td>NaN</td>\n",
       "      <td>NaN</td>\n",
       "      <td>NaN</td>\n",
       "      <td>NaN</td>\n",
       "      <td>NaN</td>\n",
       "    </tr>\n",
       "    <tr>\n",
       "      <th>1</th>\n",
       "      <td>Referral</td>\n",
       "      <td>[{'index': '4', 'value': 'North America'}]</td>\n",
       "      <td>20171016</td>\n",
       "      <td>8934116514970143966</td>\n",
       "      <td>[{'hitNumber': '1', 'time': '0', 'hour': '10',...</td>\n",
       "      <td>Not Socially Engaged</td>\n",
       "      <td>1508176307</td>\n",
       "      <td>6</td>\n",
       "      <td>1508176307</td>\n",
       "      <td>Chrome</td>\n",
       "      <td>...</td>\n",
       "      <td>not available in demo dataset</td>\n",
       "      <td>/a/google.com/transportation/mtv-services/bike...</td>\n",
       "      <td>NaN</td>\n",
       "      <td>NaN</td>\n",
       "      <td>NaN</td>\n",
       "      <td>NaN</td>\n",
       "      <td>NaN</td>\n",
       "      <td>NaN</td>\n",
       "      <td>NaN</td>\n",
       "      <td>NaN</td>\n",
       "    </tr>\n",
       "    <tr>\n",
       "      <th>2</th>\n",
       "      <td>Direct</td>\n",
       "      <td>[{'index': '4', 'value': 'North America'}]</td>\n",
       "      <td>20171016</td>\n",
       "      <td>7992466427990357681</td>\n",
       "      <td>[{'hitNumber': '1', 'time': '0', 'hour': '17',...</td>\n",
       "      <td>Not Socially Engaged</td>\n",
       "      <td>1508201613</td>\n",
       "      <td>1</td>\n",
       "      <td>1508201613</td>\n",
       "      <td>Chrome</td>\n",
       "      <td>...</td>\n",
       "      <td>not available in demo dataset</td>\n",
       "      <td>NaN</td>\n",
       "      <td>True</td>\n",
       "      <td>NaN</td>\n",
       "      <td>NaN</td>\n",
       "      <td>NaN</td>\n",
       "      <td>NaN</td>\n",
       "      <td>NaN</td>\n",
       "      <td>NaN</td>\n",
       "      <td>NaN</td>\n",
       "    </tr>\n",
       "  </tbody>\n",
       "</table>\n",
       "<p>3 rows × 60 columns</p>\n",
       "</div>"
      ],
      "text/plain": [
       "  channelGrouping                            customDimensions      date  \\\n",
       "0  Organic Search           [{'index': '4', 'value': 'EMEA'}]  20171016   \n",
       "1        Referral  [{'index': '4', 'value': 'North America'}]  20171016   \n",
       "2          Direct  [{'index': '4', 'value': 'North America'}]  20171016   \n",
       "\n",
       "         fullVisitorId                                               hits  \\\n",
       "0  3162355547410993243  [{'hitNumber': '1', 'time': '0', 'hour': '17',...   \n",
       "1  8934116514970143966  [{'hitNumber': '1', 'time': '0', 'hour': '10',...   \n",
       "2  7992466427990357681  [{'hitNumber': '1', 'time': '0', 'hour': '17',...   \n",
       "\n",
       "   socialEngagementType     visitId  visitNumber  visitStartTime  \\\n",
       "0  Not Socially Engaged  1508198450            1      1508198450   \n",
       "1  Not Socially Engaged  1508176307            6      1508176307   \n",
       "2  Not Socially Engaged  1508201613            1      1508201613   \n",
       "\n",
       "  device.browser  ... trafficSource.adwordsClickInfo.criteriaParameters  \\\n",
       "0        Firefox  ...                     not available in demo dataset   \n",
       "1         Chrome  ...                     not available in demo dataset   \n",
       "2         Chrome  ...                     not available in demo dataset   \n",
       "\n",
       "                          trafficSource.referralPath  \\\n",
       "0                                                NaN   \n",
       "1  /a/google.com/transportation/mtv-services/bike...   \n",
       "2                                                NaN   \n",
       "\n",
       "  trafficSource.isTrueDirect trafficSource.adContent  \\\n",
       "0                        NaN                     NaN   \n",
       "1                        NaN                     NaN   \n",
       "2                       True                     NaN   \n",
       "\n",
       "   trafficSource.adwordsClickInfo.page trafficSource.adwordsClickInfo.slot  \\\n",
       "0                                  NaN                                 NaN   \n",
       "1                                  NaN                                 NaN   \n",
       "2                                  NaN                                 NaN   \n",
       "\n",
       "  trafficSource.adwordsClickInfo.gclId  \\\n",
       "0                                  NaN   \n",
       "1                                  NaN   \n",
       "2                                  NaN   \n",
       "\n",
       "  trafficSource.adwordsClickInfo.adNetworkType  \\\n",
       "0                                          NaN   \n",
       "1                                          NaN   \n",
       "2                                          NaN   \n",
       "\n",
       "  trafficSource.adwordsClickInfo.isVideoAd trafficSource.campaignCode  \n",
       "0                                      NaN                        NaN  \n",
       "1                                      NaN                        NaN  \n",
       "2                                      NaN                        NaN  \n",
       "\n",
       "[3 rows x 60 columns]"
      ]
     },
     "execution_count": 6,
     "metadata": {},
     "output_type": "execute_result"
    }
   ],
   "source": [
    "train.loc[:2]"
   ]
  },
  {
   "cell_type": "markdown",
   "id": "127714db",
   "metadata": {},
   "source": [
    "#### We can observe from above that many columns has a huge amount of null values so we have the following options to clean the data :\n",
    "#### 1. Get rid of the corresponding rows\n",
    "#### 2. Get rid of the whole column\n",
    "#### 3. Set the values to some values such as zero,mean,median etc.\n",
    "## DATA PREPROCESSING\n",
    "#### NOTE - For further data cleaning we need to get rid of values such as 'unknown.unknown', '(not set)', 'not available in demo dataset', '(not provided)', '(none)', 'NA' in the training dataset so that data cleaning and preproccessing can be done effiently"
   ]
  },
  {
   "cell_type": "code",
   "execution_count": 7,
   "id": "c75fc21a",
   "metadata": {},
   "outputs": [],
   "source": [
    "unknown_values = ['unknown.unknown', '(not set)', 'not available in demo dataset', '(not provided)', '(none)', '<NA>']"
   ]
  },
  {
   "cell_type": "code",
   "execution_count": 8,
   "id": "86230cd1",
   "metadata": {},
   "outputs": [],
   "source": [
    "train.replace(unknown_values, np.nan, inplace=True)"
   ]
  },
  {
   "cell_type": "code",
   "execution_count": 9,
   "id": "f5db51e2",
   "metadata": {},
   "outputs": [
    {
     "data": {
      "text/html": [
       "<div>\n",
       "<style scoped>\n",
       "    .dataframe tbody tr th:only-of-type {\n",
       "        vertical-align: middle;\n",
       "    }\n",
       "\n",
       "    .dataframe tbody tr th {\n",
       "        vertical-align: top;\n",
       "    }\n",
       "\n",
       "    .dataframe thead th {\n",
       "        text-align: right;\n",
       "    }\n",
       "</style>\n",
       "<table border=\"1\" class=\"dataframe\">\n",
       "  <thead>\n",
       "    <tr style=\"text-align: right;\">\n",
       "      <th></th>\n",
       "      <th>channelGrouping</th>\n",
       "      <th>customDimensions</th>\n",
       "      <th>date</th>\n",
       "      <th>fullVisitorId</th>\n",
       "      <th>hits</th>\n",
       "      <th>socialEngagementType</th>\n",
       "      <th>visitId</th>\n",
       "      <th>visitNumber</th>\n",
       "      <th>visitStartTime</th>\n",
       "      <th>device.browser</th>\n",
       "      <th>...</th>\n",
       "      <th>trafficSource.adwordsClickInfo.criteriaParameters</th>\n",
       "      <th>trafficSource.referralPath</th>\n",
       "      <th>trafficSource.isTrueDirect</th>\n",
       "      <th>trafficSource.adContent</th>\n",
       "      <th>trafficSource.adwordsClickInfo.page</th>\n",
       "      <th>trafficSource.adwordsClickInfo.slot</th>\n",
       "      <th>trafficSource.adwordsClickInfo.gclId</th>\n",
       "      <th>trafficSource.adwordsClickInfo.adNetworkType</th>\n",
       "      <th>trafficSource.adwordsClickInfo.isVideoAd</th>\n",
       "      <th>trafficSource.campaignCode</th>\n",
       "    </tr>\n",
       "  </thead>\n",
       "  <tbody>\n",
       "    <tr>\n",
       "      <th>0</th>\n",
       "      <td>Organic Search</td>\n",
       "      <td>[{'index': '4', 'value': 'EMEA'}]</td>\n",
       "      <td>20171016</td>\n",
       "      <td>3162355547410993243</td>\n",
       "      <td>[{'hitNumber': '1', 'time': '0', 'hour': '17',...</td>\n",
       "      <td>Not Socially Engaged</td>\n",
       "      <td>1508198450</td>\n",
       "      <td>1</td>\n",
       "      <td>1508198450</td>\n",
       "      <td>Firefox</td>\n",
       "      <td>...</td>\n",
       "      <td>NaN</td>\n",
       "      <td>NaN</td>\n",
       "      <td>NaN</td>\n",
       "      <td>NaN</td>\n",
       "      <td>NaN</td>\n",
       "      <td>NaN</td>\n",
       "      <td>NaN</td>\n",
       "      <td>NaN</td>\n",
       "      <td>NaN</td>\n",
       "      <td>NaN</td>\n",
       "    </tr>\n",
       "    <tr>\n",
       "      <th>1</th>\n",
       "      <td>Referral</td>\n",
       "      <td>[{'index': '4', 'value': 'North America'}]</td>\n",
       "      <td>20171016</td>\n",
       "      <td>8934116514970143966</td>\n",
       "      <td>[{'hitNumber': '1', 'time': '0', 'hour': '10',...</td>\n",
       "      <td>Not Socially Engaged</td>\n",
       "      <td>1508176307</td>\n",
       "      <td>6</td>\n",
       "      <td>1508176307</td>\n",
       "      <td>Chrome</td>\n",
       "      <td>...</td>\n",
       "      <td>NaN</td>\n",
       "      <td>/a/google.com/transportation/mtv-services/bike...</td>\n",
       "      <td>NaN</td>\n",
       "      <td>NaN</td>\n",
       "      <td>NaN</td>\n",
       "      <td>NaN</td>\n",
       "      <td>NaN</td>\n",
       "      <td>NaN</td>\n",
       "      <td>NaN</td>\n",
       "      <td>NaN</td>\n",
       "    </tr>\n",
       "    <tr>\n",
       "      <th>2</th>\n",
       "      <td>Direct</td>\n",
       "      <td>[{'index': '4', 'value': 'North America'}]</td>\n",
       "      <td>20171016</td>\n",
       "      <td>7992466427990357681</td>\n",
       "      <td>[{'hitNumber': '1', 'time': '0', 'hour': '17',...</td>\n",
       "      <td>Not Socially Engaged</td>\n",
       "      <td>1508201613</td>\n",
       "      <td>1</td>\n",
       "      <td>1508201613</td>\n",
       "      <td>Chrome</td>\n",
       "      <td>...</td>\n",
       "      <td>NaN</td>\n",
       "      <td>NaN</td>\n",
       "      <td>True</td>\n",
       "      <td>NaN</td>\n",
       "      <td>NaN</td>\n",
       "      <td>NaN</td>\n",
       "      <td>NaN</td>\n",
       "      <td>NaN</td>\n",
       "      <td>NaN</td>\n",
       "      <td>NaN</td>\n",
       "    </tr>\n",
       "  </tbody>\n",
       "</table>\n",
       "<p>3 rows × 60 columns</p>\n",
       "</div>"
      ],
      "text/plain": [
       "  channelGrouping                            customDimensions      date  \\\n",
       "0  Organic Search           [{'index': '4', 'value': 'EMEA'}]  20171016   \n",
       "1        Referral  [{'index': '4', 'value': 'North America'}]  20171016   \n",
       "2          Direct  [{'index': '4', 'value': 'North America'}]  20171016   \n",
       "\n",
       "         fullVisitorId                                               hits  \\\n",
       "0  3162355547410993243  [{'hitNumber': '1', 'time': '0', 'hour': '17',...   \n",
       "1  8934116514970143966  [{'hitNumber': '1', 'time': '0', 'hour': '10',...   \n",
       "2  7992466427990357681  [{'hitNumber': '1', 'time': '0', 'hour': '17',...   \n",
       "\n",
       "   socialEngagementType     visitId  visitNumber  visitStartTime  \\\n",
       "0  Not Socially Engaged  1508198450            1      1508198450   \n",
       "1  Not Socially Engaged  1508176307            6      1508176307   \n",
       "2  Not Socially Engaged  1508201613            1      1508201613   \n",
       "\n",
       "  device.browser  ...  trafficSource.adwordsClickInfo.criteriaParameters  \\\n",
       "0        Firefox  ...                                                NaN   \n",
       "1         Chrome  ...                                                NaN   \n",
       "2         Chrome  ...                                                NaN   \n",
       "\n",
       "                          trafficSource.referralPath  \\\n",
       "0                                                NaN   \n",
       "1  /a/google.com/transportation/mtv-services/bike...   \n",
       "2                                                NaN   \n",
       "\n",
       "  trafficSource.isTrueDirect  trafficSource.adContent  \\\n",
       "0                        NaN                      NaN   \n",
       "1                        NaN                      NaN   \n",
       "2                       True                      NaN   \n",
       "\n",
       "   trafficSource.adwordsClickInfo.page  trafficSource.adwordsClickInfo.slot  \\\n",
       "0                                  NaN                                  NaN   \n",
       "1                                  NaN                                  NaN   \n",
       "2                                  NaN                                  NaN   \n",
       "\n",
       "   trafficSource.adwordsClickInfo.gclId  \\\n",
       "0                                   NaN   \n",
       "1                                   NaN   \n",
       "2                                   NaN   \n",
       "\n",
       "   trafficSource.adwordsClickInfo.adNetworkType  \\\n",
       "0                                           NaN   \n",
       "1                                           NaN   \n",
       "2                                           NaN   \n",
       "\n",
       "   trafficSource.adwordsClickInfo.isVideoAd  trafficSource.campaignCode  \n",
       "0                                       NaN                         NaN  \n",
       "1                                       NaN                         NaN  \n",
       "2                                       NaN                         NaN  \n",
       "\n",
       "[3 rows x 60 columns]"
      ]
     },
     "execution_count": 9,
     "metadata": {},
     "output_type": "execute_result"
    }
   ],
   "source": [
    "train.loc[:2]"
   ]
  },
  {
   "cell_type": "markdown",
   "id": "6431f763",
   "metadata": {},
   "source": [
    "#### It can be observed that all the values which were null basically have been replaced to NAN\n",
    "#### We also need to drop such columns who has only one unique value ,basically it means if any column has all values same then it is a redundant feature"
   ]
  },
  {
   "cell_type": "code",
   "execution_count": 10,
   "id": "42307427",
   "metadata": {},
   "outputs": [
    {
     "data": {
      "text/plain": [
       "channelGrouping                                           8\n",
       "customDimensions                                          6\n",
       "date                                                     46\n",
       "fullVisitorId                                        107402\n",
       "hits                                                 110795\n",
       "socialEngagementType                                      1\n",
       "visitId                                              117682\n",
       "visitNumber                                             221\n",
       "visitStartTime                                       117673\n",
       "device.browser                                           34\n",
       "device.browserVersion                                     0\n",
       "device.browserSize                                        0\n",
       "device.operatingSystem                                   17\n",
       "device.operatingSystemVersion                             0\n",
       "device.isMobile                                           2\n",
       "device.mobileDeviceBranding                               0\n",
       "device.mobileDeviceModel                                  0\n",
       "device.mobileInputSelector                                0\n",
       "device.mobileDeviceInfo                                   0\n",
       "device.mobileDeviceMarketingName                          0\n",
       "device.flashVersion                                       0\n",
       "device.language                                           0\n",
       "device.screenColors                                       0\n",
       "device.screenResolution                                   0\n",
       "device.deviceCategory                                     3\n",
       "geoNetwork.continent                                      5\n",
       "geoNetwork.subContinent                                  22\n",
       "geoNetwork.country                                      190\n",
       "geoNetwork.region                                       236\n",
       "geoNetwork.metro                                         55\n",
       "geoNetwork.city                                         328\n",
       "geoNetwork.cityId                                         0\n",
       "geoNetwork.networkDomain                               8384\n",
       "geoNetwork.latitude                                       0\n",
       "geoNetwork.longitude                                      0\n",
       "geoNetwork.networkLocation                                0\n",
       "totals.visits                                             1\n",
       "totals.hits                                             162\n",
       "totals.pageviews                                        122\n",
       "totals.bounces                                            1\n",
       "totals.newVisits                                          1\n",
       "totals.sessionQualityDim                                 96\n",
       "totals.timeOnSite                                      2554\n",
       "totals.transactions                                       5\n",
       "totals.transactionRevenue                               842\n",
       "totals.totalTransactionRevenue                          981\n",
       "trafficSource.campaign                                   26\n",
       "trafficSource.source                                    149\n",
       "trafficSource.medium                                      5\n",
       "trafficSource.keyword                                   442\n",
       "trafficSource.adwordsClickInfo.criteriaParameters         0\n",
       "trafficSource.referralPath                             1105\n",
       "trafficSource.isTrueDirect                                1\n",
       "trafficSource.adContent                                  55\n",
       "trafficSource.adwordsClickInfo.page                       6\n",
       "trafficSource.adwordsClickInfo.slot                       3\n",
       "trafficSource.adwordsClickInfo.gclId                   5511\n",
       "trafficSource.adwordsClickInfo.adNetworkType              2\n",
       "trafficSource.adwordsClickInfo.isVideoAd                  1\n",
       "trafficSource.campaignCode                                1\n",
       "dtype: int64"
      ]
     },
     "execution_count": 10,
     "metadata": {},
     "output_type": "execute_result"
    }
   ],
   "source": [
    "unique_value_counts = train.nunique()\n",
    "unique_value_counts"
   ]
  },
  {
   "cell_type": "code",
   "execution_count": 11,
   "id": "7b3ba0e0",
   "metadata": {},
   "outputs": [],
   "source": [
    "columns_to_drop = unique_value_counts[unique_value_counts == 1].index\n",
    "train.drop(columns=columns_to_drop, inplace=True)"
   ]
  },
  {
   "cell_type": "code",
   "execution_count": 12,
   "id": "9dc179df",
   "metadata": {},
   "outputs": [
    {
     "data": {
      "text/plain": [
       "(120000, 53)"
      ]
     },
     "execution_count": 12,
     "metadata": {},
     "output_type": "execute_result"
    }
   ],
   "source": [
    "train.shape"
   ]
  },
  {
   "cell_type": "markdown",
   "id": "f8a69e85",
   "metadata": {},
   "source": [
    "#### It can be oberved that after dropping the columns with one unique values ,the shape regarding columns has been reduced from 60 -> 53"
   ]
  },
  {
   "cell_type": "code",
   "execution_count": 14,
   "id": "207ababd",
   "metadata": {},
   "outputs": [],
   "source": [
    "# Converting date column from character to Date class.\n",
    "train['date'] = pd.to_datetime(train['date'], format='%Y%m%d')"
   ]
  },
  {
   "cell_type": "code",
   "execution_count": 15,
   "id": "2af5d5eb",
   "metadata": {},
   "outputs": [
    {
     "data": {
      "text/plain": [
       "0        2017-10-16\n",
       "1        2017-10-16\n",
       "2        2017-10-16\n",
       "3        2017-10-16\n",
       "4        2017-10-16\n",
       "            ...    \n",
       "119995   2016-12-09\n",
       "119996   2016-12-09\n",
       "119997   2016-12-09\n",
       "119998   2016-12-09\n",
       "119999   2016-12-09\n",
       "Name: date, Length: 120000, dtype: datetime64[ns]"
      ]
     },
     "execution_count": 15,
     "metadata": {},
     "output_type": "execute_result"
    }
   ],
   "source": [
    "train['date']"
   ]
  },
  {
   "cell_type": "code",
   "execution_count": 21,
   "id": "e8295a68",
   "metadata": {},
   "outputs": [],
   "source": [
    "# Converting all the newly JSON columns (hits, pageviews, transactionRevenue) from character to numeric\n",
    "columns_to_convert = ['totals.hits', 'totals.pageviews', 'totals.transactionRevenue']\n",
    "for column in columns_to_convert:\n",
    "    train[column] = pd.to_numeric(train[column], errors='coerce')\n",
    "# The 'errors' parameter is set to 'coerce' to replace any non-convertible values with NaN.\n",
    "# If you want to keep the non-convertible values as they are, you can omit the 'errors' parameter.\n"
   ]
  },
  {
   "cell_type": "code",
   "execution_count": 24,
   "id": "c9b73d14",
   "metadata": {},
   "outputs": [
    {
     "data": {
      "text/plain": [
       "Index(['hits', 'device.browserVersion', 'device.browserSize',\n",
       "       'device.operatingSystemVersion', 'device.mobileDeviceBranding',\n",
       "       'device.mobileDeviceModel', 'device.mobileInputSelector',\n",
       "       'device.mobileDeviceInfo', 'device.mobileDeviceMarketingName',\n",
       "       'device.flashVersion', 'device.language', 'device.screenColors',\n",
       "       'device.screenResolution', 'geoNetwork.cityId', 'geoNetwork.latitude',\n",
       "       'geoNetwork.longitude', 'geoNetwork.networkLocation',\n",
       "       'totals.transactions', 'totals.transactionRevenue',\n",
       "       'totals.totalTransactionRevenue',\n",
       "       'trafficSource.adwordsClickInfo.criteriaParameters',\n",
       "       'trafficSource.adContent'],\n",
       "      dtype='object')"
      ]
     },
     "execution_count": 24,
     "metadata": {},
     "output_type": "execute_result"
    }
   ],
   "source": [
    "# Calculate the percentage of missing values for each column\n",
    "missing_percentage = (train.isnull().sum() / len(train)) * 100\n",
    "\n",
    "# Define a threshold for missing values (95% in this case)\n",
    "threshold = 95\n",
    "\n",
    "# Get the list of columns to drop based on the threshold\n",
    "columns_to_drop = missing_percentage[missing_percentage > threshold].index\n",
    "\n",
    "columns_to_drop"
   ]
  },
  {
   "cell_type": "code",
   "execution_count": 26,
   "id": "a026919e",
   "metadata": {},
   "outputs": [],
   "source": [
    "# Drop the columns with more than 95% missing values\n",
    "train.drop(columns=columns_to_drop, inplace=True)"
   ]
  },
  {
   "cell_type": "code",
   "execution_count": 27,
   "id": "aa6f93ad",
   "metadata": {},
   "outputs": [
    {
     "data": {
      "text/plain": [
       "(120000, 31)"
      ]
     },
     "execution_count": 27,
     "metadata": {},
     "output_type": "execute_result"
    }
   ],
   "source": [
    "train.shape"
   ]
  },
  {
   "cell_type": "code",
   "execution_count": 30,
   "id": "879b1093",
   "metadata": {},
   "outputs": [],
   "source": [
    "from sklearn.impute import SimpleImputer\n",
    "\n",
    "# Identify numeric columns with missing values\n",
    "numeric_columns_with_missing = train.select_dtypes(include=['number']).columns[train.select_dtypes(include=['number']).isnull().any()]\n",
    "\n",
    "# Create a SimpleImputer with a strategy (e.g., 'mean', 'median', or 'most_frequent')\n",
    "imputer = SimpleImputer(strategy='median')  # You can choose a different strategy if needed\n",
    "\n",
    "# Impute missing values in numeric columns only\n",
    "train[numeric_columns_with_missing] = imputer.fit_transform(train[numeric_columns_with_missing])\n",
    "\n"
   ]
  },
  {
   "cell_type": "code",
   "execution_count": 31,
   "id": "b27e1360",
   "metadata": {},
   "outputs": [
    {
     "data": {
      "text/plain": [
       "Index(['totals.pageviews'], dtype='object')"
      ]
     },
     "execution_count": 31,
     "metadata": {},
     "output_type": "execute_result"
    }
   ],
   "source": [
    "numeric_columns_with_missing"
   ]
  },
  {
   "cell_type": "code",
   "execution_count": 35,
   "id": "8016d4ee",
   "metadata": {},
   "outputs": [
    {
     "data": {
      "text/plain": [
       "0"
      ]
     },
     "execution_count": 35,
     "metadata": {},
     "output_type": "execute_result"
    }
   ],
   "source": [
    "missing_pageviews = train['totals.pageviews'].isnull().sum()\n",
    "missing_pageviews"
   ]
  },
  {
   "cell_type": "code",
   "execution_count": null,
   "id": "ecab85d4",
   "metadata": {},
   "outputs": [],
   "source": []
  }
 ],
 "metadata": {
  "kernelspec": {
   "display_name": "Python 3 (ipykernel)",
   "language": "python",
   "name": "python3"
  },
  "language_info": {
   "codemirror_mode": {
    "name": "ipython",
    "version": 3
   },
   "file_extension": ".py",
   "mimetype": "text/x-python",
   "name": "python",
   "nbconvert_exporter": "python",
   "pygments_lexer": "ipython3",
   "version": "3.9.13"
  }
 },
 "nbformat": 4,
 "nbformat_minor": 5
}
